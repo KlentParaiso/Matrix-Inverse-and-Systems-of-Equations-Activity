{
 "cells": [
  {
   "cell_type": "markdown",
   "id": "0fc9cf30-7df2-4fa8-b7d9-98f62a2bf806",
   "metadata": {},
   "source": [
    "# Example 1: Finding the Inverse of a Matrix\n",
    "\n"
   ]
  },
  {
   "cell_type": "code",
   "execution_count": 3,
   "id": "c33dbb9c-7a61-4204-be0b-4ab76f5b1280",
   "metadata": {},
   "outputs": [
    {
     "name": "stdout",
     "output_type": "stream",
     "text": [
      "Determinant of A: 10.000000000000002\n",
      "Inverse of A:\n",
      "[[ 0.6 -0.7]\n",
      " [-0.2  0.4]]\n"
     ]
    }
   ],
   "source": [
    "import numpy as np\n",
    "\n",
    "# Define a 2x2 matrix\n",
    "A = np.array([[4, 7],\n",
    "              [2, 6]])\n",
    "\n",
    "# Check if the matrix is invertible\n",
    "det_A = np.linalg.det(A)\n",
    "print(f\"Determinant of A: {det_A}\")\n",
    "\n",
    "if det_A != 0:\n",
    "    # Calculate the inverse\n",
    "    A_inv = np.linalg.inv(A)\n",
    "    print(\"Inverse of A:\")\n",
    "    print(A_inv)\n",
    "else:\n",
    "    print(\"Matrix A is not invertible.\")\n"
   ]
  },
  {
   "cell_type": "markdown",
   "id": "4de85d04-cca2-40e4-b612-857196ab2ff1",
   "metadata": {},
   "source": [
    "# Example 2: Solving a System of Equations"
   ]
  },
  {
   "cell_type": "code",
   "execution_count": 4,
   "id": "12fababf-a6f0-41af-a10f-90630e4a04f2",
   "metadata": {},
   "outputs": [
    {
     "name": "stdout",
     "output_type": "stream",
     "text": [
      "Solution for [x, y]:\n",
      "[0.4 1.2]\n"
     ]
    }
   ],
   "source": [
    "# Coefficient matrix\n",
    "A = np.array([[4, 7],\n",
    "              [2, 6]])\n",
    "\n",
    "# Constant vector\n",
    "b = np.array([10, 8])\n",
    "\n",
    "# Solve for x using matrix inverse\n",
    "if np.linalg.det(A) != 0:\n",
    "    x = np.linalg.inv(A).dot(b)\n",
    "    print(\"Solution for [x, y]:\")\n",
    "    print(x)\n",
    "else:\n",
    "    print(\"Matrix A is not invertible, no unique solution.\")"
   ]
  },
  {
   "cell_type": "markdown",
   "id": "b4732871-ef46-41a9-8e14-df5cd2a96d73",
   "metadata": {},
   "source": [
    "# Problem 1"
   ]
  },
  {
   "cell_type": "code",
   "execution_count": 10,
   "id": "f40fa429-bc37-4182-b4da-483542fcd0fd",
   "metadata": {},
   "outputs": [
    {
     "name": "stdout",
     "output_type": "stream",
     "text": [
      "[[ 0.71428571 -0.57142857]\n",
      " [-0.28571429  0.42857143]]\n"
     ]
    }
   ],
   "source": [
    "import numpy as np\n",
    "\n",
    "matrix_A1 = np.array([[3, 4], [2, 5]])\n",
    "try:\n",
    "    inverse_A1 = np.linalg.inv(matrix_A1)\n",
    "except np.linalg.LinAlgError:\n",
    "    inverse_A1 = \"Matrix is singular and cannot be inverted\"\n",
    "\n",
    "print(inverse_A1)"
   ]
  },
  {
   "cell_type": "markdown",
   "id": "a8851541-7bcb-4183-82c2-1ae641de4b8e",
   "metadata": {},
   "source": [
    "# Problem 2"
   ]
  },
  {
   "cell_type": "code",
   "execution_count": 15,
   "id": "b3f46b27-ced8-4aa1-8b3c-9713eec2df79",
   "metadata": {},
   "outputs": [
    {
     "name": "stdout",
     "output_type": "stream",
     "text": [
      "Solution: x = 1.571, y = 1.286\n"
     ]
    }
   ],
   "source": [
    "\n",
    "coefficients = np.array([[2, 3], [4, -1]])\n",
    "constants = np.array([7, 5])\n",
    "\n",
    "try:\n",
    "    solution = np.linalg.solve(coefficients, constants)\n",
    "    print(f\"Solution: x = {solution[0]:.3f}, y = {solution[1]:.3f}\")\n",
    "except np.linalg.LinAlgError:\n",
    "    print(\"System cannot be solved\")"
   ]
  },
  {
   "cell_type": "markdown",
   "id": "24ae1e38-5604-4674-b14a-2b9b013aea72",
   "metadata": {},
   "source": [
    "# Problem 3"
   ]
  },
  {
   "cell_type": "code",
   "execution_count": 13,
   "id": "08b51208-a91e-48b5-8916-142923bd9197",
   "metadata": {},
   "outputs": [
    {
     "name": "stdout",
     "output_type": "stream",
     "text": [
      "Determinant: 0.9999999999999964\n",
      "Rank: 3\n"
     ]
    }
   ],
   "source": [
    "\n",
    "matrix_A3 = np.array([[1, 2, 3], [0, 1, 4], [5, 6, 0]])\n",
    "determinant_A3 = np.linalg.det(matrix_A3)\n",
    "rank_A3 = np.linalg.matrix_rank(matrix_A3)\n",
    "\n",
    "print(\"Determinant:\", determinant_A3)\n",
    "print(\"Rank:\", rank_A3)"
   ]
  },
  {
   "cell_type": "markdown",
   "id": "73daf069-c58f-410b-8afa-8cdc0013c0bf",
   "metadata": {},
   "source": [
    "# Problem 4"
   ]
  },
  {
   "cell_type": "code",
   "execution_count": 18,
   "id": "c576bc14-da94-446a-9450-65e0d6a0419e",
   "metadata": {},
   "outputs": [
    {
     "name": "stdout",
     "output_type": "stream",
     "text": [
      "Solution: x = 10.842, y = -5.211, z = 0.368\n"
     ]
    }
   ],
   "source": [
    "# Coefficients matrix\n",
    "A4 = np.array([[1, 1, 1], [2, 5, 1], [2, 3, 8]])\n",
    "# Constants vector\n",
    "b4 = np.array([6, -4, 9])\n",
    "\n",
    "# Solve using matrix inverse (A^-1 * b)\n",
    "A4_inverse = np.linalg.inv(A4)\n",
    "solution_4 = np.dot(A4_inverse, b4)\n",
    "\n",
    "print(f\"Solution: x = {solution_4[0]:.3f}, y = {solution_4[1]:.3f}, z = {solution_4[2]:.3f}\")"
   ]
  },
  {
   "cell_type": "markdown",
   "id": "8b8db06f-fed3-49ca-97b7-293cee89fc38",
   "metadata": {},
   "source": [
    "# Problem 5\n"
   ]
  },
  {
   "cell_type": "code",
   "execution_count": 17,
   "id": "e26d01f4-9893-4720-9c15-e38b16337849",
   "metadata": {},
   "outputs": [
    {
     "name": "stdout",
     "output_type": "stream",
     "text": [
      "Solution: x1 = 2.600, x2 = 5.400, x3 = -14.400\n"
     ]
    }
   ],
   "source": [
    "\n",
    "\n",
    "# Matrix A and vector b\n",
    "A5 = np.array([[4, -1, 0], [3, 5, 2], [-2, 4, 1]])\n",
    "b5 = np.array([5, 6, 2])\n",
    "\n",
    "# Solve for x using np.linalg.solve\n",
    "solution_5 = np.linalg.solve(A5, b5)\n",
    "\n",
    "print(f\"Solution: x1 = {solution_5[0]:.3f}, x2 = {solution_5[1]:.3f}, x3 = {solution_5[2]:.3f}\")\n"
   ]
  },
  {
   "cell_type": "markdown",
   "id": "1a1867c7-0ac5-41a9-a740-4548c71b325d",
   "metadata": {},
   "source": [
    "# Bonus Challenge"
   ]
  },
  {
   "cell_type": "code",
   "execution_count": 21,
   "id": "92e392bc-defa-4ab7-9a8a-2bb2031d9ba2",
   "metadata": {},
   "outputs": [
    {
     "name": "stdout",
     "output_type": "stream",
     "text": [
      "The matrix is not invertible because its determinant is zero.\n"
     ]
    }
   ],
   "source": [
    "import numpy as np\n",
    "\n",
    "def invert_matrix(matrix):\n",
    "    \"\"\"\n",
    "    Checks if an n×n matrix is invertible. If invertible, returns its inverse.\n",
    "    Otherwise, prints that the matrix is not invertible.\n",
    "\n",
    "    Parameters:\n",
    "    matrix (numpy.ndarray): The matrix to check and invert.\n",
    "\n",
    "    Returns:\n",
    "    numpy.ndarray or str: Inverse of the matrix if invertible, otherwise a message.\n",
    "    \"\"\"\n",
    "    # Check if the matrix is square\n",
    "    if matrix.shape[0] != matrix.shape[1]:\n",
    "        return \"The matrix is not square and cannot be inverted.\"\n",
    "    \n",
    "    # Calculate the determinant\n",
    "    determinant = np.linalg.det(matrix)\n",
    "    \n",
    "    # Check if the determinant is zero\n",
    "    if determinant == 0:\n",
    "        return \"The matrix is not invertible because its determinant is zero.\"\n",
    "    \n",
    "    # Compute the inverse\n",
    "    inverse = np.linalg.inv(matrix)\n",
    "    return inverse\n",
    "\n",
    "# Example usage\n",
    "matrix = np.array([[2, 1], [4, 2]])\n",
    "result = invert_matrix(matrix)\n",
    "print(result)\n"
   ]
  }
 ],
 "metadata": {
  "kernelspec": {
   "display_name": "Python 3 (ipykernel)",
   "language": "python",
   "name": "python3"
  },
  "language_info": {
   "codemirror_mode": {
    "name": "ipython",
    "version": 3
   },
   "file_extension": ".py",
   "mimetype": "text/x-python",
   "name": "python",
   "nbconvert_exporter": "python",
   "pygments_lexer": "ipython3",
   "version": "3.12.7"
  }
 },
 "nbformat": 4,
 "nbformat_minor": 5
}
